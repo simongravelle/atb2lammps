{
 "cells": [
  {
   "cell_type": "code",
   "execution_count": null,
   "metadata": {},
   "outputs": [],
   "source": [
    "import sys, os, git, subprocess\n",
    "from utilities import detect_lt_file, write_system_lt, delete_extra_files, \\\n",
    "    write_lammps_data, write_lammps_input, write_parm, rewrite_README, \\\n",
    "    write_lammps_mol\n",
    "# detect local path\n",
    "current_path = os.getcwd()\n",
    "git_repo = git.Repo(current_path, search_parent_directories=True)\n",
    "git_path = git_repo.git.rev_parse(\"--show-toplevel\")\n",
    "path_to_molecules = git_path + '/molecules'\n",
    "molecule_list = []\n",
    "# detect molecules\n",
    "for filename in os.listdir(path_to_molecules):\n",
    "    molecule_folder = os.path.join(path_to_molecules, filename)\n",
    "    if os.path.isdir(molecule_folder):\n",
    "        molecule = molecule_folder[len(path_to_molecules)+1:]\n",
    "        molecule_name = molecule.split(\"_\")[0]\n",
    "        molecule_formula = molecule.split(\"_\")[1]\n",
    "        print(\"molecule:\", molecule_name, \"\\t\", \"formula:\", molecule_formula)\n",
    "\n",
    "        lt_file = detect_lt_file(molecule_folder)\n",
    "        # extract the system.lt file\n",
    "        write_system_lt(molecule_folder, lt_file)\n",
    "        # run moltemplate\n",
    "        run_moltemplate = subprocess.run([\"moltemplate.sh\", molecule_folder + \"/system.lt\"],\n",
    "                                         cwd=molecule_folder, stdout=open(os.devnull, 'wb'),\n",
    "                                         stderr=subprocess.DEVNULL) \n",
    "        no_charge = write_lammps_data(molecule_folder, molecule_name)\n",
    "\n",
    "        write_lammps_mol(molecule_folder, molecule_name)\n",
    "\n",
    "        atom_list = write_parm(molecule_folder)\n",
    "        write_lammps_input(molecule_folder, no_charge, atom_list, molecule_name)\n",
    "        delete_extra_files(molecule_folder)\n",
    "        molecule_list.append([molecule_name, molecule_formula])\n",
    "        \n",
    "rewrite_README(molecule_list)"
   ]
  }
 ],
 "metadata": {
  "kernelspec": {
   "display_name": "Python 3",
   "language": "python",
   "name": "python3"
  },
  "language_info": {
   "codemirror_mode": {
    "name": "ipython",
    "version": 3
   },
   "file_extension": ".py",
   "mimetype": "text/x-python",
   "name": "python",
   "nbconvert_exporter": "python",
   "pygments_lexer": "ipython3",
   "version": "3.12.3"
  }
 },
 "nbformat": 4,
 "nbformat_minor": 2
}
